﻿{
  "metadata": {
    "name": "World Sales SQL",
    "kernelspec": {
      "language": "scala",
      "name": "spark2-scala"
    },
    "language_info": {
      "codemirror_mode": "text/x-scala",
      "file_extension": ".scala",
      "mimetype": "text/x-scala",
      "name": "scala",
      "pygments_lexer": "scala"
    }
  },
  "nbformat": 4,
  "nbformat_minor": 2,
  "cells": [
    {
      "cell_type": "markdown",
      "metadata": {},
      "source": " \n\n1. ) Load data into a Spark dataframe"
    },
    {
      "cell_type": "code",
      "execution_count": 1,
      "metadata": {
        "autoscroll": "auto"
      },
      "outputs": [],
      "source": "\nval df \u003d spark.read.option(\"inferSchema\",\"True\").option(\"header\",\"True\").csv(\"/notebook/worldsales.csv\")"
    },
    {
      "cell_type": "markdown",
      "metadata": {},
      "source": "2.) Create Schema"
    },
    {
      "cell_type": "code",
      "execution_count": 3,
      "metadata": {
        "autoscroll": "auto"
      },
      "outputs": [],
      "source": "\ndf.createOrReplaceTempView(\"df_view\")"
    },
    {
      "cell_type": "markdown",
      "metadata": {},
      "source": "3.) Print the Schema"
    },
    {
      "cell_type": "code",
      "execution_count": 5,
      "metadata": {
        "autoscroll": "auto"
      },
      "outputs": [],
      "source": "\ndf.printSchema()"
    },
    {
      "cell_type": "markdown",
      "metadata": {},
      "source": "4.) Aggregate the dataframe via group by “Region” and count"
    },
    {
      "cell_type": "code",
      "execution_count": 7,
      "metadata": {
        "autoscroll": "auto"
      },
      "outputs": [],
      "source": "\nval filtered_df \u003d df.filter($\"Units_Sold\" \u003e 8000 \u0026\u0026 $\"Unit_Cost\" \u003e 500)\nfiltered_df.show()\n\n"
    },
    {
      "cell_type": "markdown",
      "metadata": {},
      "source": "5.) Create a separate dataframe with the above group by results"
    },
    {
      "cell_type": "code",
      "execution_count": 9,
      "metadata": {
        "autoscroll": "auto"
      },
      "outputs": [],
      "source": "\nval aggregated_df \u003d df.groupBy(\"Region\").count()\naggregated_df.show()"
    },
    {
      "cell_type": "markdown",
      "metadata": {},
      "source": "6.) Save this new subset dataframe as a csv file into HDFS – make sure it is saved as a single file in HDFS"
    },
    {
      "cell_type": "code",
      "execution_count": 11,
      "metadata": {
        "autoscroll": "auto"
      },
      "outputs": [],
      "source": "aggregated_df.write.option(\"header\",\"true\").csv(\"notebook/region_count.csv\")\n\n\n"
    },
    {
      "cell_type": "markdown",
      "metadata": {},
      "source": "7.) Create two views using the “createOrReplaceTempView” command"
    },
    {
      "cell_type": "markdown",
      "metadata": {},
      "source": "8.) View on “Salesview” from the first dataframe"
    },
    {
      "cell_type": "code",
      "execution_count": 14,
      "metadata": {
        "autoscroll": "auto"
      },
      "outputs": [],
      "source": "\ndf.createOrReplaceTempView(\"SalesView\")"
    },
    {
      "cell_type": "markdown",
      "metadata": {},
      "source": "9.) View on “Regionview” from the second dataframe\n"
    },
    {
      "cell_type": "code",
      "execution_count": 16,
      "metadata": {
        "autoscroll": "auto"
      },
      "outputs": [],
      "source": "\ndf.createOrReplaceTempView(\"RegionView\")"
    },
    {
      "cell_type": "markdown",
      "metadata": {},
      "source": " \n10.) Using SQL select all from “Regionview” view and show in a line graph."
    },
    {
      "cell_type": "code",
      "execution_count": 18,
      "metadata": {
        "autoscroll": "auto"
      },
      "outputs": [],
      "source": "\n%sql\nSELECT * FROM RegionView"
    },
    {
      "cell_type": "markdown",
      "metadata": {},
      "source": "11.) Using SQL, from the “Salesview” view, Select the region and sum of units sold, and group by region\n"
    },
    {
      "cell_type": "code",
      "execution_count": 20,
      "metadata": {
        "autoscroll": "auto"
      },
      "outputs": [],
      "source": "\n%sql\nSELECT region, SUM(units_sold) AS TotalUnitsSold\nFROM Salesview\nGROUP BY region;\n"
    },
    {
      "cell_type": "markdown",
      "metadata": {},
      "source": "12.) Using SQL select from the “Salesview” view – the region and sum of total_profit and group by region and display in a Bar chart"
    },
    {
      "cell_type": "code",
      "execution_count": 22,
      "metadata": {
        "autoscroll": "auto"
      },
      "outputs": [],
      "source": "\n%sql\nSELECT Region, SUM(Total_Profit) AS total_profit\nFROM Salesview\nGROUP BY Region;\n\n"
    },
    {
      "cell_type": "markdown",
      "metadata": {},
      "source": "13.) Using SQL select from the “Salesview” view – show the total profit as profit, the total revenue as revenue and the total cost as cost from “Salesview”, group by region"
    },
    {
      "cell_type": "code",
      "execution_count": 24,
      "metadata": {
        "autoscroll": "auto"
      },
      "outputs": [],
      "source": "\n%sql\nSELECT \n    Region, \n    SUM(Total_Profit) AS profit,\n    SUM(Total_Revenue) AS revenue,\n    SUM(Total_Cost) AS cost \nFROM \n    Salesview\nGROUP BY \n    Region;\n"
    },
    {
      "cell_type": "markdown",
      "metadata": {},
      "source": "14.) The client is in the process of opening up a new store and they are looking at the best location to do so - They need to see the avg profit in each region as a percentage (pie chart) compared to other regions."
    },
    {
      "cell_type": "code",
      "execution_count": 26,
      "metadata": {
        "autoscroll": "auto"
      },
      "outputs": [],
      "source": "%sql\n\nWITH RegionProfit AS (\n    SELECT \n        Region,\n        AVG(Total_Profit) AS avg_profit\n    FROM \n        Salesview\n    GROUP BY \n        Region\n),\nTotalAvgProfit AS (\n    SELECT \n        AVG(Total_Profit) AS total_avg_profit\n    FROM \n        Salesview\n)\nSELECT \n    r.Region,\n    (r.avg_profit / t.total_avg_profit) * 100 AS avg_profit_percentage\nFROM \n    RegionProfit r, TotalAvgProfit t;\n\n"
    },
    {
      "cell_type": "code",
      "execution_count": 27,
      "metadata": {
        "autoscroll": "auto"
      },
      "outputs": [],
      "source": "%python\n%%sql\n"
    },
    {
      "cell_type": "raw",
      "metadata": {
        "format": "text/plain"
      },
      "source": "%python\n"
    }
  ]
}